{
 "cells": [
  {
   "cell_type": "code",
   "execution_count": 1,
   "metadata": {},
   "outputs": [],
   "source": [
    "import random"
   ]
  },
  {
   "cell_type": "code",
   "execution_count": 99,
   "metadata": {},
   "outputs": [],
   "source": [
    "size_password = int(input(\"de cuantos digitos nesecitas tu contraseña\"))\n",
    "list_password = [] \n",
    "\n",
    "\n",
    "turns_password = int(size_password // 5 + 2)\n",
    "cont_password = 0\n",
    "\n"
   ]
  },
  {
   "cell_type": "code",
   "execution_count": 120,
   "metadata": {},
   "outputs": [],
   "source": [
    "while turns_password - cont_password > 0 :\n",
    "    cont_password += 1  \n",
    "    list_password.append(random.randint(41,59))\n",
    "    list_password.append(random.randint(61,79))\n",
    "    list_password.append(random.randint(30, 39))\n",
    "    list_password.append(random.randint(21,27))\n",
    "            \n"
   ]
  },
  {
   "cell_type": "code",
   "execution_count": 132,
   "metadata": {},
   "outputs": [],
   "source": [
    "list_ascii = []\n",
    "for password in range(1, (size_password+1)):\n",
    "    list_ascii.append(chr(list_password[random.randint(0, size_password)]))\n",
    "\n"
   ]
  },
  {
   "cell_type": "code",
   "execution_count": 137,
   "metadata": {},
   "outputs": [
    {
     "name": "stdout",
     "output_type": "stream",
     "text": [
      "*)G@)*\u0016*\u001a'\n"
     ]
    }
   ],
   "source": [
    "\n",
    "passwordPass = \"\".join(list_ascii)\n",
    "print(passwordPass)"
   ]
  },
  {
   "cell_type": "code",
   "execution_count": null,
   "metadata": {},
   "outputs": [],
   "source": [
    "\n",
    "\n"
   ]
  },
  {
   "cell_type": "markdown",
   "metadata": {},
   "source": []
  }
 ],
 "metadata": {
  "interpreter": {
   "hash": "ac59ebe37160ed0dfa835113d9b8498d9f09ceb179beaac4002f036b9467c963"
  },
  "kernelspec": {
   "display_name": "Python 3.9.5 64-bit",
   "language": "python",
   "name": "python3"
  },
  "language_info": {
   "codemirror_mode": {
    "name": "ipython",
    "version": 3
   },
   "file_extension": ".py",
   "mimetype": "text/x-python",
   "name": "python",
   "nbconvert_exporter": "python",
   "pygments_lexer": "ipython3",
   "version": "3.9.5"
  },
  "orig_nbformat": 4
 },
 "nbformat": 4,
 "nbformat_minor": 2
}
